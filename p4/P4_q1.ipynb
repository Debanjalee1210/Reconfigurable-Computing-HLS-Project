{
 "cells": [
  {
   "cell_type": "code",
   "execution_count": 1,
   "metadata": {},
   "outputs": [],
   "source": [
    "def matrix_mult(a, b):\n",
    "    \"\"\"\n",
    "    Multiplies 2 matrices\n",
    "    \"\"\"\n",
    "    prod = np.zeros((len(a), len(b[0])), dtype=np.uint32)\n",
    "    for i in range(len(a)):\n",
    "        for j in range(len(b[0])):\n",
    "            for k in range(len(b)):\n",
    "                prod[i][j] += a[i][k] * b[k][j]\n",
    "    return prod"
   ]
  },
  {
   "cell_type": "code",
   "execution_count": 2,
   "metadata": {},
   "outputs": [
    {
     "name": "stdout",
     "output_type": "stream",
     "text": [
      "Time: \n",
      "0.052718162536621094\n",
      "Time: \n",
      "0.05497097969055176\n",
      "Time: \n",
      "0.055101633071899414\n",
      "Time: \n",
      "0.054952383041381836\n",
      "Time: \n",
      "0.05874991416931152\n",
      "Time: \n",
      "0.05571627616882324\n",
      "Time: \n",
      "0.055107831954956055\n",
      "Time: \n",
      "0.05514645576477051\n",
      "Time: \n",
      "0.05786275863647461\n",
      "Time: \n",
      "0.05612373352050781\n",
      "PASSED!!\n"
     ]
    }
   ],
   "source": [
    "import random \n",
    "import numpy as np\n",
    "import time\n",
    "a = np.ones((16, 16), dtype=np.uint32)\n",
    "b = np.ones((16, 16), dtype=np.uint32)\n",
    "prod = np.ones((16, 16), dtype=np.uint32)\n",
    "est_prod = np.ones((16, 16), dtype=np.uint32)\n",
    "count = 0\n",
    "for testcase in range(10):\n",
    "    ##Building Array A \n",
    "    for i in range(2):\n",
    "        for j in range(2):\n",
    "            a[i][j] = np.uint32(random.randrange(0, 255, 1))\n",
    "            b[i][j] = np.uint32(random.randrange(0, 255, 1))\n",
    "    begin = time.time()\n",
    "    prod = matrix_mult(a, b)\n",
    "    end = time.time()\n",
    "    print(\"Time: \")\n",
    "    print(end - begin)\n",
    "    est_prod = np.matmul(a,b)\n",
    "    for k in range(len(prod)):\n",
    "        for l in range(len(prod[0])):\n",
    "            if prod[k][l] != est_prod[k][l]:\n",
    "                print(\"Failed!\")\n",
    "                count += 1\n",
    "                break\n",
    "if count > 0:\n",
    "    print(\"Cased Failed: \")\n",
    "    print(count)\n",
    "else:\n",
    "    print(\"PASSED!!\")"
   ]
  }
 ],
 "metadata": {
  "kernelspec": {
   "display_name": "Python 3",
   "language": "python",
   "name": "python3"
  },
  "language_info": {
   "codemirror_mode": {
    "name": "ipython",
    "version": 3
   },
   "file_extension": ".py",
   "mimetype": "text/x-python",
   "name": "python",
   "nbconvert_exporter": "python",
   "pygments_lexer": "ipython3",
   "version": "3.6.5"
  }
 },
 "nbformat": 4,
 "nbformat_minor": 2
}
