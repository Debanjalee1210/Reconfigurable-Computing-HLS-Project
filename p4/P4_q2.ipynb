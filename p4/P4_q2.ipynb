{
 "cells": [
  {
   "cell_type": "code",
   "execution_count": 4,
   "metadata": {},
   "outputs": [
    {
     "data": {
      "application/javascript": "\ntry {\nrequire(['notebook/js/codecell'], function(codecell) {\n  codecell.CodeCell.options_default.highlight_modes[\n      'magic_text/x-csrc'] = {'reg':[/^%%microblaze/]};\n  Jupyter.notebook.events.one('kernel_ready.Kernel', function(){\n      Jupyter.notebook.get_cells().map(function(cell){\n          if (cell.cell_type == 'code'){ cell.auto_highlight(); } }) ;\n  });\n});\n} catch (e) {};\n"
     },
     "metadata": {},
     "output_type": "display_data"
    },
    {
     "data": {
      "application/javascript": "\ntry {\nrequire(['notebook/js/codecell'], function(codecell) {\n  codecell.CodeCell.options_default.highlight_modes[\n      'magic_text/x-csrc'] = {'reg':[/^%%pybind11/]};\n  Jupyter.notebook.events.one('kernel_ready.Kernel', function(){\n      Jupyter.notebook.get_cells().map(function(cell){\n          if (cell.cell_type == 'code'){ cell.auto_highlight(); } }) ;\n  });\n});\n} catch (e) {};\n"
     },
     "metadata": {},
     "output_type": "display_data"
    }
   ],
   "source": [
    "from pynq import DefaultIP\n",
    "from pynq import Overlay\n",
    "\n",
    "import random \n",
    "import numpy as np\n",
    "import time"
   ]
  },
  {
   "cell_type": "code",
   "execution_count": 45,
   "metadata": {},
   "outputs": [],
   "source": [
    "class matrix_mult_driver:\n",
    "    def __init__(self, path):\n",
    "        ##Creating the overlay, and initializing the IPs\n",
    "        self.overlay = Overlay(path)\n",
    "        \n",
    "        ##BRAM Initializing\n",
    "        self.bram1 = self.overlay.axi_bram_ctrl_0\n",
    "        self.bram2 = self.overlay.axi_bram_ctrl_1\n",
    "        self.bram3 = self.overlay.axi_bram_ctrl_2\n",
    "        \n",
    "        ##Initialise the matrix multiplier IP\n",
    "        self.matmul = self.overlay.matrix_mult_0\n",
    "        \n",
    "    def bram_write(self, bram_id, offset, data):\n",
    "        if bram_id == 1:\n",
    "            self.bram1.write(offset, data)\n",
    "        elif bram_id == 2:\n",
    "            self.bram2.write(offset, data)\n",
    "        elif bram_id == 3:\n",
    "            self.bram3.write(offset, data)\n",
    "        else:\n",
    "            print(\"Can't write! BRAM doesn't exist!\")\n",
    "    \n",
    "    def bram_read(self, bram_id, offset):\n",
    "        if bram_id == 1:\n",
    "            return self.bram1.read(offset)\n",
    "        elif bram_id == 2:\n",
    "            return self.bram2.read(offset)\n",
    "        elif bram_id == 3:\n",
    "            return self.bram3.read(offset)\n",
    "        else:\n",
    "            print(id)\n",
    "            print(\"Can't Read! BRAM doesn't exist!\")\n",
    "            return -1\n",
    "    def matrix_mult(self, a, b):\n",
    "        ###Write Operation!\n",
    "        count = 0 \n",
    "        prod = np.zeros((len(a), len(b[0])), dtype=np.uint32)\n",
    "        for i in range(16):\n",
    "            for j in range(16):\n",
    "                self.bram_write(1, count*4, int(a[i][j]))\n",
    "                self.bram_write(2, count*4, int(b[i][j]))\n",
    "                count += 1\n",
    "        ### Turning AP_START on!\n",
    "        self.matmul.register_map.CTRL.AP_START = 1\n",
    "        \n",
    "        ##Busy Waiting for completion\n",
    "        while self.matmul.register_map.CTRL.AP_IDLE == 0:\n",
    "            pass\n",
    "        \n",
    "        ##Reading Operation\n",
    "        count = 0\n",
    "        for i in range(16):\n",
    "            for j in range(16):\n",
    "                prod[i][j] = self.bram_read(3, count*4)\n",
    "                count += 1\n",
    "        return prod"
   ]
  },
  {
   "cell_type": "code",
   "execution_count": 46,
   "metadata": {},
   "outputs": [],
   "source": [
    "inst = matrix_mult_driver('/home/xilinx/jupyter_notebooks/lab2/hls_p4.bit')"
   ]
  },
  {
   "cell_type": "code",
   "execution_count": 47,
   "metadata": {},
   "outputs": [
    {
     "name": "stdout",
     "output_type": "stream",
     "text": [
      "Time: \n",
      "0.04176616668701172\n",
      "Time: \n",
      "0.03268122673034668\n",
      "Time: \n",
      "0.03232240676879883\n",
      "Time: \n",
      "0.03233051300048828\n",
      "Time: \n",
      "0.036614418029785156\n",
      "Time: \n",
      "0.03297996520996094\n",
      "Time: \n",
      "0.03218817710876465\n",
      "Time: \n",
      "0.03255105018615723\n",
      "Time: \n",
      "0.03653717041015625\n",
      "Time: \n",
      "0.032680511474609375\n",
      "PASSED!!\n"
     ]
    }
   ],
   "source": [
    "import random \n",
    "import numpy as np\n",
    "import time\n",
    "\n",
    "a = np.ones((16, 16), dtype=np.uint32)\n",
    "b = np.ones((16, 16), dtype=np.uint32)\n",
    "prod = np.ones((16, 16), dtype=np.uint32)\n",
    "est_prod = np.ones((16, 16), dtype=np.uint32)\n",
    "count = 0\n",
    "for testcase in range(10):\n",
    "    ##Building Array A \n",
    "    for i in range(16):\n",
    "        for j in range(16):\n",
    "            a[i][j] = np.uint32(random.randrange(0, 255, 1))\n",
    "            b[i][j] = np.uint32(random.randrange(0, 255, 1))\n",
    "    begin = time.time()\n",
    "    prod = inst.matrix_mult(a, b)\n",
    "    end = time.time()\n",
    "    print(\"Time: \")\n",
    "    print(end - begin)\n",
    "    est_prod = np.matmul(a,b)\n",
    "    for k in range(len(prod)):\n",
    "        for l in range(len(prod[0])):\n",
    "            if prod[k][l] != est_prod[k][l]:\n",
    "                print(\"Failed!\")\n",
    "                count += 1\n",
    "                break\n",
    "if count > 0:\n",
    "    print(\"Cased Failed: \")\n",
    "    print(count)\n",
    "else:\n",
    "    print(\"PASSED!!\")"
   ]
  }
 ],
 "metadata": {
  "kernelspec": {
   "display_name": "Python 3",
   "language": "python",
   "name": "python3"
  },
  "language_info": {
   "codemirror_mode": {
    "name": "ipython",
    "version": 3
   },
   "file_extension": ".py",
   "mimetype": "text/x-python",
   "name": "python",
   "nbconvert_exporter": "python",
   "pygments_lexer": "ipython3",
   "version": "3.6.5"
  }
 },
 "nbformat": 4,
 "nbformat_minor": 2
}
